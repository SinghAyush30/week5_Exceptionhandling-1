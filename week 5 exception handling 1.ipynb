{
 "cells": [
  {
   "cell_type": "markdown",
   "id": "f70feb2f-116f-4152-9ead-35a34d433ca7",
   "metadata": {},
   "source": [
    "Ans1) Exceptions in Python are objects that are created when an error or exceptional condition occurs then they are raised to indicate that something unexpected has happened. If an exception is not handled, it will terminate the execution of the program and display an error message.\n",
    "\n",
    "Difference between Exceptions and Syntax Errors is:-\n",
    "\n",
    " Syntax errors occur when the Python interpreter detects an incorrect statement in the code. They are detected during the parsing phase, before the program starts executing. On the other hand, exceptions occur during the execution of a program when an error or unexpected condition is encountered."
   ]
  },
  {
   "cell_type": "markdown",
   "id": "da2aad8d-7b19-4e55-89b1-64fc3f93141c",
   "metadata": {},
   "source": [
    "Ans2) When an exception is not handled it terminates the program and typically show an error message. It occurs when the program encounters an error or unexpected condition but does not have any specific code to handle or recover from that error."
   ]
  },
  {
   "cell_type": "code",
   "execution_count": 8,
   "id": "bdc2d2ac-0830-4591-af62-2743483c0eb1",
   "metadata": {},
   "outputs": [],
   "source": [
    "#An example to show this:-\n",
    "def divide_number(a,b):\n",
    "    result = (a/b)\n",
    "    return result"
   ]
  },
  {
   "cell_type": "code",
   "execution_count": 37,
   "id": "11106972-16cc-4ca3-b2f3-7d2ae9caa77d",
   "metadata": {},
   "outputs": [
    {
     "ename": "ZeroDivisionError",
     "evalue": "division by zero",
     "output_type": "error",
     "traceback": [
      "\u001b[0;31m---------------------------------------------------------------------------\u001b[0m",
      "\u001b[0;31mZeroDivisionError\u001b[0m                         Traceback (most recent call last)",
      "Cell \u001b[0;32mIn[37], line 2\u001b[0m\n\u001b[1;32m      1\u001b[0m \u001b[38;5;66;03m#here when we not apply exception it is showing error\u001b[39;00m\n\u001b[0;32m----> 2\u001b[0m \u001b[43mdivide_number\u001b[49m\u001b[43m(\u001b[49m\u001b[38;5;241;43m40\u001b[39;49m\u001b[43m,\u001b[49m\u001b[38;5;241;43m0\u001b[39;49m\u001b[43m)\u001b[49m\n",
      "Cell \u001b[0;32mIn[14], line 3\u001b[0m, in \u001b[0;36mdivide_number\u001b[0;34m(a, b)\u001b[0m\n\u001b[1;32m      2\u001b[0m \u001b[38;5;28;01mdef\u001b[39;00m \u001b[38;5;21mdivide_number\u001b[39m(a,b):\n\u001b[0;32m----> 3\u001b[0m     result \u001b[38;5;241m=\u001b[39m (\u001b[43ma\u001b[49m\u001b[38;5;241;43m/\u001b[39;49m\u001b[43mb\u001b[49m)\n\u001b[1;32m      4\u001b[0m     \u001b[38;5;28;01mreturn\u001b[39;00m result\n",
      "\u001b[0;31mZeroDivisionError\u001b[0m: division by zero"
     ]
    }
   ],
   "source": [
    "#here when we not apply exception it is showing error\n",
    "divide_number(40,0)"
   ]
  },
  {
   "cell_type": "code",
   "execution_count": 21,
   "id": "00ae2089-47e3-497a-9137-6b01a9b427a6",
   "metadata": {},
   "outputs": [
    {
     "name": "stdout",
     "output_type": "stream",
     "text": [
      "zero division error\n"
     ]
    }
   ],
   "source": [
    "try:\n",
    "    result = (40/0)\n",
    "    print(result)\n",
    "except ZeroDivisionError:\n",
    "    print(\"zero division error\")"
   ]
  },
  {
   "cell_type": "markdown",
   "id": "a98f3b27-a865-4dc6-bd0d-78cc93613f7b",
   "metadata": {},
   "source": [
    "Ans 3) In python \"try\" and \"except\" are used to catch the exception. hjere's is the example supporting my answer"
   ]
  },
  {
   "cell_type": "code",
   "execution_count": 22,
   "id": "d2ea76c2-4193-4eb1-952c-828351221e22",
   "metadata": {},
   "outputs": [
    {
     "name": "stdout",
     "output_type": "stream",
     "text": [
      "int can not concatenate with str \n"
     ]
    }
   ],
   "source": [
    "try:\n",
    "    result = 2+\"ayush\"\n",
    "    print(result)\n",
    "except TypeError:\n",
    "    print(\"int can not concatenate with str \")\n",
    "    "
   ]
  },
  {
   "cell_type": "code",
   "execution_count": 24,
   "id": "81e6589c-ef69-4518-83e4-9aa1093bfa4e",
   "metadata": {},
   "outputs": [
    {
     "name": "stdout",
     "output_type": "stream",
     "text": [
      "2352\n"
     ]
    }
   ],
   "source": [
    "#Ans4)a) try and else example\n",
    "try:\n",
    "    result = 42*56\n",
    "except Exception:\n",
    "    print(\"can not be processed\")\n",
    "else:\n",
    "    print(result)"
   ]
  },
  {
   "cell_type": "code",
   "execution_count": 25,
   "id": "365a68da-a523-4be9-927b-2ee40286647c",
   "metadata": {},
   "outputs": [
    {
     "name": "stdout",
     "output_type": "stream",
     "text": [
      "[1, 2, 3, 9, 8, 7, 6]\n",
      "concatenation is done\n"
     ]
    }
   ],
   "source": [
    "#Ans4)b) finally example\n",
    "try:\n",
    "    l1 = [1,2,3]\n",
    "    l2 = [9,8,7,6]\n",
    "    result = l1 + l2\n",
    "    print(result)\n",
    "finally:\n",
    "    print(\"concatenation is done\")"
   ]
  },
  {
   "cell_type": "code",
   "execution_count": 26,
   "id": "ca208dbf-896d-4e37-986e-e99a168951d3",
   "metadata": {},
   "outputs": [
    {
     "name": "stdout",
     "output_type": "stream",
     "text": [
      "An error occurred: Cannot divide by zero!\n"
     ]
    }
   ],
   "source": [
    "#Ans4)c) raise example\n",
    "def divide_numbers(a, b):\n",
    "    if b == 0:\n",
    "        raise ValueError(\"Cannot divide by zero!\")\n",
    "    return a / b\n",
    "\n",
    "try:\n",
    "    result = divide_numbers(10, 0)\n",
    "    print(\"Result:\", result)\n",
    "except ValueError as e:\n",
    "    print(\"An error occurred:\", str(e))"
   ]
  },
  {
   "cell_type": "markdown",
   "id": "4b6b1254-aa3d-4cd8-aaa7-aa1c857827d9",
   "metadata": {},
   "source": [
    "Ans5) Custom exception is also called user defined exception in which we deifine our code to handle specific error which is not covered under built-in exception code.\n",
    "\n",
    "We need this type of exception because sometimes programming language is not be able to detect error in given function which is actually an error according to us. \n",
    "\n",
    "for example - If we give him negative age it will pass the code but as we know age can not be negative."
   ]
  },
  {
   "cell_type": "code",
   "execution_count": 35,
   "id": "8d97a03f-91df-421c-882b-ae5b025d6c5a",
   "metadata": {},
   "outputs": [],
   "source": [
    "#Ans6)\n",
    "class age_error2(Exception):\n",
    "    def __init__(self,age1):\n",
    "        self.age1 = age1\n",
    "        if age1 < 0:\n",
    "            print(\"age can not be negative\")\n",
    "        else:\n",
    "            print(age1)"
   ]
  },
  {
   "cell_type": "code",
   "execution_count": 36,
   "id": "7731879c-4f6d-4196-91a3-3eec0c725c0c",
   "metadata": {},
   "outputs": [
    {
     "name": "stdout",
     "output_type": "stream",
     "text": [
      "age can not be negative\n"
     ]
    }
   ],
   "source": [
    "age1 = -32\n",
    "if age1 < 0:\n",
    "        print(\"age can not be negative\")\n",
    "else:\n",
    "    print(age)"
   ]
  },
  {
   "cell_type": "code",
   "execution_count": null,
   "id": "d35de58e-b3f7-4fd2-981f-72f85ada84b8",
   "metadata": {},
   "outputs": [],
   "source": []
  }
 ],
 "metadata": {
  "kernelspec": {
   "display_name": "Python 3 (ipykernel)",
   "language": "python",
   "name": "python3"
  },
  "language_info": {
   "codemirror_mode": {
    "name": "ipython",
    "version": 3
   },
   "file_extension": ".py",
   "mimetype": "text/x-python",
   "name": "python",
   "nbconvert_exporter": "python",
   "pygments_lexer": "ipython3",
   "version": "3.10.8"
  }
 },
 "nbformat": 4,
 "nbformat_minor": 5
}
